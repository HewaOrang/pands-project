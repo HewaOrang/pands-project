{
 "cells": [
  {
   "cell_type": "markdown",
   "id": "74a1e6e7",
   "metadata": {},
   "source": [
    "# Prject"
   ]
  },
  {
   "cell_type": "markdown",
   "id": "c90be09c",
   "metadata": {},
   "source": [
    "#### Loading the dataset"
   ]
  },
  {
   "cell_type": "code",
   "execution_count": 2,
   "id": "286be5aa",
   "metadata": {},
   "outputs": [],
   "source": [
    "# Data frames\n",
    "\n",
    "import pandas as pd\n",
    "\n",
    "# Machine Learning Library that contains example datasets\n",
    "import sklearn as sk1"
   ]
  },
  {
   "cell_type": "code",
   "execution_count": 3,
   "id": "4a0ff204",
   "metadata": {},
   "outputs": [],
   "source": [
    "# Load the iris dataset\n",
    "df = pd.read_csv('https://gist.githubusercontent.com/curran/a08a1080b88344b0c8a7/raw/0e7a9b0a5d22642a06d3d5b9bcbad9890c8ee534/iris.csv')"
   ]
  },
  {
   "cell_type": "code",
   "execution_count": 4,
   "id": "4d2cf384",
   "metadata": {},
   "outputs": [
    {
     "data": {
      "text/html": [
       "<div>\n",
       "<style scoped>\n",
       "    .dataframe tbody tr th:only-of-type {\n",
       "        vertical-align: middle;\n",
       "    }\n",
       "\n",
       "    .dataframe tbody tr th {\n",
       "        vertical-align: top;\n",
       "    }\n",
       "\n",
       "    .dataframe thead th {\n",
       "        text-align: right;\n",
       "    }\n",
       "</style>\n",
       "<table border=\"1\" class=\"dataframe\">\n",
       "  <thead>\n",
       "    <tr style=\"text-align: right;\">\n",
       "      <th></th>\n",
       "      <th>sepal_length</th>\n",
       "      <th>sepal_width</th>\n",
       "      <th>petal_length</th>\n",
       "      <th>petal_width</th>\n",
       "      <th>species</th>\n",
       "    </tr>\n",
       "  </thead>\n",
       "  <tbody>\n",
       "    <tr>\n",
       "      <th>0</th>\n",
       "      <td>5.1</td>\n",
       "      <td>3.5</td>\n",
       "      <td>1.4</td>\n",
       "      <td>0.2</td>\n",
       "      <td>setosa</td>\n",
       "    </tr>\n",
       "    <tr>\n",
       "      <th>1</th>\n",
       "      <td>4.9</td>\n",
       "      <td>3.0</td>\n",
       "      <td>1.4</td>\n",
       "      <td>0.2</td>\n",
       "      <td>setosa</td>\n",
       "    </tr>\n",
       "    <tr>\n",
       "      <th>2</th>\n",
       "      <td>4.7</td>\n",
       "      <td>3.2</td>\n",
       "      <td>1.3</td>\n",
       "      <td>0.2</td>\n",
       "      <td>setosa</td>\n",
       "    </tr>\n",
       "    <tr>\n",
       "      <th>3</th>\n",
       "      <td>4.6</td>\n",
       "      <td>3.1</td>\n",
       "      <td>1.5</td>\n",
       "      <td>0.2</td>\n",
       "      <td>setosa</td>\n",
       "    </tr>\n",
       "    <tr>\n",
       "      <th>4</th>\n",
       "      <td>5.0</td>\n",
       "      <td>3.6</td>\n",
       "      <td>1.4</td>\n",
       "      <td>0.2</td>\n",
       "      <td>setosa</td>\n",
       "    </tr>\n",
       "    <tr>\n",
       "      <th>...</th>\n",
       "      <td>...</td>\n",
       "      <td>...</td>\n",
       "      <td>...</td>\n",
       "      <td>...</td>\n",
       "      <td>...</td>\n",
       "    </tr>\n",
       "    <tr>\n",
       "      <th>145</th>\n",
       "      <td>6.7</td>\n",
       "      <td>3.0</td>\n",
       "      <td>5.2</td>\n",
       "      <td>2.3</td>\n",
       "      <td>virginica</td>\n",
       "    </tr>\n",
       "    <tr>\n",
       "      <th>146</th>\n",
       "      <td>6.3</td>\n",
       "      <td>2.5</td>\n",
       "      <td>5.0</td>\n",
       "      <td>1.9</td>\n",
       "      <td>virginica</td>\n",
       "    </tr>\n",
       "    <tr>\n",
       "      <th>147</th>\n",
       "      <td>6.5</td>\n",
       "      <td>3.0</td>\n",
       "      <td>5.2</td>\n",
       "      <td>2.0</td>\n",
       "      <td>virginica</td>\n",
       "    </tr>\n",
       "    <tr>\n",
       "      <th>148</th>\n",
       "      <td>6.2</td>\n",
       "      <td>3.4</td>\n",
       "      <td>5.4</td>\n",
       "      <td>2.3</td>\n",
       "      <td>virginica</td>\n",
       "    </tr>\n",
       "    <tr>\n",
       "      <th>149</th>\n",
       "      <td>5.9</td>\n",
       "      <td>3.0</td>\n",
       "      <td>5.1</td>\n",
       "      <td>1.8</td>\n",
       "      <td>virginica</td>\n",
       "    </tr>\n",
       "  </tbody>\n",
       "</table>\n",
       "<p>150 rows × 5 columns</p>\n",
       "</div>"
      ],
      "text/plain": [
       "     sepal_length  sepal_width  petal_length  petal_width    species\n",
       "0             5.1          3.5           1.4          0.2     setosa\n",
       "1             4.9          3.0           1.4          0.2     setosa\n",
       "2             4.7          3.2           1.3          0.2     setosa\n",
       "3             4.6          3.1           1.5          0.2     setosa\n",
       "4             5.0          3.6           1.4          0.2     setosa\n",
       "..            ...          ...           ...          ...        ...\n",
       "145           6.7          3.0           5.2          2.3  virginica\n",
       "146           6.3          2.5           5.0          1.9  virginica\n",
       "147           6.5          3.0           5.2          2.0  virginica\n",
       "148           6.2          3.4           5.4          2.3  virginica\n",
       "149           5.9          3.0           5.1          1.8  virginica\n",
       "\n",
       "[150 rows x 5 columns]"
      ]
     },
     "execution_count": 4,
     "metadata": {},
     "output_type": "execute_result"
    }
   ],
   "source": [
    "# Show data\n",
    "df"
   ]
  },
  {
   "cell_type": "markdown",
   "id": "f6128a09",
   "metadata": {},
   "source": [
    "#### Output summary of each variable to a single text file."
   ]
  },
  {
   "cell_type": "code",
   "execution_count": 7,
   "id": "6632b31e",
   "metadata": {},
   "outputs": [],
   "source": [
    "# Load the dataset.\n",
    "data = sk1.datasets.load_iris()"
   ]
  },
  {
   "cell_type": "code",
   "execution_count": 9,
   "id": "585753ae",
   "metadata": {},
   "outputs": [],
   "source": [
    "summary = df.describe(include='all')\n",
    "\n",
    "with open(\"iris_summary.txt\", \"w\") as f:\n",
    "    f.write(\"Summary of Iris Dataset Variables\\n\\n\")\n",
    "    f.write(summary.to_string())"
   ]
  },
  {
   "cell_type": "markdown",
   "id": "a46d56fd",
   "metadata": {},
   "source": [
    "### Histogram of each varibale"
   ]
  },
  {
   "cell_type": "code",
   "execution_count": 14,
   "id": "cb0fe82f",
   "metadata": {},
   "outputs": [
    {
     "ename": "NameError",
     "evalue": "name 'plt' is not defined",
     "output_type": "error",
     "traceback": [
      "\u001b[31m---------------------------------------------------------------------------\u001b[39m",
      "\u001b[31mNameError\u001b[39m                                 Traceback (most recent call last)",
      "\u001b[36mCell\u001b[39m\u001b[36m \u001b[39m\u001b[32mIn[14]\u001b[39m\u001b[32m, line 21\u001b[39m\n\u001b[32m     18\u001b[39m ax.set_ylabel(\u001b[33m'\u001b[39m\u001b[33mFrequency\u001b[39m\u001b[33m'\u001b[39m)\n\u001b[32m     20\u001b[39m \u001b[38;5;66;03m# Show the plot\u001b[39;00m\n\u001b[32m---> \u001b[39m\u001b[32m21\u001b[39m ax = \u001b[43mplt\u001b[49m.savefig(\u001b[33m'\u001b[39m\u001b[33mspeal length hist\u001b[39m\u001b[33m'\u001b[39m)\n",
      "\u001b[31mNameError\u001b[39m: name 'plt' is not defined"
     ]
    },
    {
     "data": {
      "image/png": "[encoded data removed]",
      "text/plain": [
       "<Figure size 640x480 with 1 Axes>"
      ]
     },
     "metadata": {},
     "output_type": "display_data"
    }
   ],
   "source": [
    "# https://python-graph-gallery.com/528-customizing-histogram-with-pandas/#:~:text=Adding%20titles%20and%20names%20to,()%20)%20functions%20to%20add%20them.\n",
    "\n",
    "# ax = plt.hist(df['sepal_length'], edgecolor='black', label='sepal_length', alpha=0.5)\n",
    "\n",
    "ax = df[\"sepal_length\"].hist(grid=False, # Remove grid\n",
    "                        xlabelsize=10, # Change size of labels on the x-axis\n",
    "                        ylabelsize=12, # Change size of labels on the y-axis\n",
    "                        # bins=20, # Number of bins\n",
    "                        # edgecolor='black', # Color of the border\n",
    "                        # color='orange', # Color of the bins\n",
    "                        rwidth=0.9 # Space between bins\n",
    "                        # legend =('sepal_length')\n",
    "                       )\n",
    "ax.set_title('Iris Data Features', weight='bold') \n",
    "\n",
    "# Add label names\n",
    "ax.set_xlabel('Sepal Length')\n",
    "ax.set_ylabel('Frequency')\n",
    "\n",
    "# Show the plot\n",
    "ax = plt.savefig('speal length hist')"
   ]
  },
  {
   "cell_type": "code",
   "execution_count": null,
   "id": "764e5da5",
   "metadata": {},
   "outputs": [],
   "source": []
  }
 ],
 "metadata": {
  "kernelspec": {
   "display_name": "Python 3",
   "language": "python",
   "name": "python3"
  },
  "language_info": {
   "codemirror_mode": {
    "name": "ipython",
    "version": 3
   },
   "file_extension": ".py",
   "mimetype": "text/x-python",
   "name": "python",
   "nbconvert_exporter": "python",
   "pygments_lexer": "ipython3",
   "version": "3.12.1"
  }
 },
 "nbformat": 4,
 "nbformat_minor": 5
}
